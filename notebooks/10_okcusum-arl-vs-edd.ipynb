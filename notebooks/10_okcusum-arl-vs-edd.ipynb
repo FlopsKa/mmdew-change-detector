{
 "cells": [
  {
   "cell_type": "code",
   "execution_count": 1,
   "id": "28957320-6da2-4e9e-9962-d0f264623905",
   "metadata": {},
   "outputs": [],
   "source": [
    "from sklearn.metrics.pairwise import rbf_kernel\n",
    "import numpy as np\n",
    "import matplotlib.pyplot as plt\n",
    "from mmdew.fast_rbf_kernel import est_gamma\n",
    "from mmdew.detectors import FastOKCUSUM \n",
    "from tqdm import tqdm\n",
    "import pickle\n",
    "import pandas as pd"
   ]
  },
  {
   "cell_type": "code",
   "execution_count": 2,
   "id": "c42ddd39-b9c3-4eb7-8c66-9637b3419a71",
   "metadata": {},
   "outputs": [],
   "source": [
    "from notebooks.data import MixedNormal, Uniform, Laplace"
   ]
  },
  {
   "cell_type": "code",
   "execution_count": 3,
   "id": "d683107c-8a74-4ac0-9719-00b6dd063853",
   "metadata": {},
   "outputs": [],
   "source": [
    "d=20\n",
    "ref_size=1000\n",
    "rng = np.random.default_rng()"
   ]
  },
  {
   "cell_type": "code",
   "execution_count": 4,
   "id": "acd8cf9c-7361-4c18-9361-2dfd170bae54",
   "metadata": {},
   "outputs": [],
   "source": [
    "with open('okcusum-statistics.pickle', 'rb') as handle:\n",
    "    statistics = pickle.load(handle)"
   ]
  },
  {
   "cell_type": "code",
   "execution_count": 5,
   "id": "e181b8c1-0db1-489a-a7ae-0096259f25f0",
   "metadata": {},
   "outputs": [],
   "source": [
    "target_arls_log = np.arange(3,5.1,.25)\n",
    "arl2thresh = { i : np.quantile(statistics, 1-(1/10**i)) for i in target_arls_log}"
   ]
  },
  {
   "cell_type": "code",
   "execution_count": 6,
   "id": "05468c21-0277-4365-b805-72c5f8973d19",
   "metadata": {},
   "outputs": [],
   "source": [
    "def edd(arl2thresh, statistics):\n",
    "    arl2edd = {}\n",
    "    for arl, thresh in arl2thresh.items():\n",
    "        edd = [np.argmax(s + [np.inf]>thresh) for s in h1_stats]\n",
    "        arl2edd[arl] = np.mean(edd) + 1 # account for counting from 0\n",
    "    return arl2edd"
   ]
  },
  {
   "cell_type": "code",
   "execution_count": null,
   "id": "c21844df-bfb1-4aaa-a0eb-66bef7d0b8fc",
   "metadata": {},
   "outputs": [],
   "source": []
  },
  {
   "cell_type": "code",
   "execution_count": 7,
   "id": "8ba924ad-cc30-477e-a835-8327c2afe8e4",
   "metadata": {},
   "outputs": [],
   "source": [
    "d = 20\n",
    "n_q = 500\n",
    "qs = {\n",
    "    \"MixedNormal0.3\" : MixedNormal(n_q,d,0.3),\n",
    "    \"MixedNormal0.7\" : MixedNormal(n_q,d,0.7),\n",
    "    \"Laplace\"        : Laplace(n_q,d),\n",
    "    \"Uniform\"        : Uniform(n_q,d)\n",
    "}"
   ]
  },
  {
   "cell_type": "code",
   "execution_count": 8,
   "id": "dd5070a5-f59e-43e7-8fdd-29bd815309d1",
   "metadata": {},
   "outputs": [],
   "source": [
    "df = pd.DataFrame()"
   ]
  },
  {
   "cell_type": "code",
   "execution_count": 9,
   "id": "bbefb957-ca1f-47cc-8c0e-5be3e8a6969b",
   "metadata": {},
   "outputs": [
    {
     "name": "stderr",
     "output_type": "stream",
     "text": [
      "100%|█████████████████████████████████████████| 100/100 [15:57<00:00,  9.58s/it]\n",
      "100%|█████████████████████████████████████████| 100/100 [14:51<00:00,  8.92s/it]\n",
      "100%|█████████████████████████████████████████| 100/100 [15:08<00:00,  9.09s/it]\n",
      "100%|█████████████████████████████████████████| 100/100 [15:36<00:00,  9.36s/it]\n"
     ]
    }
   ],
   "source": [
    "for name, q in qs.items():\n",
    "    h1_stats = []\n",
    "    for _ in tqdm(range(100)):\n",
    "        ref = rng.normal(size=(10000,d))\n",
    "        \n",
    "        detector = FastOKCUSUM(ref,B_max=50,N=15)\n",
    "        \n",
    "        for elem in q.draw():\n",
    "            detector.add_element(elem.reshape(1,-1))\n",
    "            \n",
    "        h1_stats += [detector.stats]\n",
    "    df = pd.concat((df, pd.DataFrame(edd(arl2thresh=arl2thresh, statistics=h1_stats), index=[name])))"
   ]
  },
  {
   "cell_type": "code",
   "execution_count": 10,
   "id": "d4ddda08-7a7c-41f2-bb56-2aac8d8b901e",
   "metadata": {},
   "outputs": [],
   "source": [
    "df = df.reset_index(names=\"data\")"
   ]
  },
  {
   "cell_type": "code",
   "execution_count": 11,
   "id": "3b20fe58-61bd-4539-969f-cd7b54afc0df",
   "metadata": {},
   "outputs": [
    {
     "data": {
      "text/html": [
       "<div>\n",
       "<style scoped>\n",
       "    .dataframe tbody tr th:only-of-type {\n",
       "        vertical-align: middle;\n",
       "    }\n",
       "\n",
       "    .dataframe tbody tr th {\n",
       "        vertical-align: top;\n",
       "    }\n",
       "\n",
       "    .dataframe thead th {\n",
       "        text-align: right;\n",
       "    }\n",
       "</style>\n",
       "<table border=\"1\" class=\"dataframe\">\n",
       "  <thead>\n",
       "    <tr style=\"text-align: right;\">\n",
       "      <th></th>\n",
       "      <th>data</th>\n",
       "      <th>3.0</th>\n",
       "      <th>3.25</th>\n",
       "      <th>3.5</th>\n",
       "      <th>3.75</th>\n",
       "      <th>4.0</th>\n",
       "      <th>4.25</th>\n",
       "      <th>4.5</th>\n",
       "      <th>4.75</th>\n",
       "      <th>5.0</th>\n",
       "    </tr>\n",
       "  </thead>\n",
       "  <tbody>\n",
       "    <tr>\n",
       "      <th>0</th>\n",
       "      <td>MixedNormal0.3</td>\n",
       "      <td>7.79</td>\n",
       "      <td>8.16</td>\n",
       "      <td>8.47</td>\n",
       "      <td>8.84</td>\n",
       "      <td>9.14</td>\n",
       "      <td>9.35</td>\n",
       "      <td>9.67</td>\n",
       "      <td>10.20</td>\n",
       "      <td>10.71</td>\n",
       "    </tr>\n",
       "    <tr>\n",
       "      <th>1</th>\n",
       "      <td>MixedNormal0.7</td>\n",
       "      <td>32.15</td>\n",
       "      <td>34.22</td>\n",
       "      <td>36.48</td>\n",
       "      <td>40.13</td>\n",
       "      <td>42.03</td>\n",
       "      <td>44.15</td>\n",
       "      <td>49.90</td>\n",
       "      <td>56.41</td>\n",
       "      <td>61.92</td>\n",
       "    </tr>\n",
       "    <tr>\n",
       "      <th>2</th>\n",
       "      <td>Laplace</td>\n",
       "      <td>3.82</td>\n",
       "      <td>3.91</td>\n",
       "      <td>3.99</td>\n",
       "      <td>4.01</td>\n",
       "      <td>4.04</td>\n",
       "      <td>4.10</td>\n",
       "      <td>4.19</td>\n",
       "      <td>4.31</td>\n",
       "      <td>4.45</td>\n",
       "    </tr>\n",
       "    <tr>\n",
       "      <th>3</th>\n",
       "      <td>Uniform</td>\n",
       "      <td>3.85</td>\n",
       "      <td>3.90</td>\n",
       "      <td>3.97</td>\n",
       "      <td>4.00</td>\n",
       "      <td>4.00</td>\n",
       "      <td>4.05</td>\n",
       "      <td>4.14</td>\n",
       "      <td>4.35</td>\n",
       "      <td>4.55</td>\n",
       "    </tr>\n",
       "  </tbody>\n",
       "</table>\n",
       "</div>"
      ],
      "text/plain": [
       "             data    3.0   3.25    3.5   3.75    4.0   4.25    4.5   4.75  \\\n",
       "0  MixedNormal0.3   7.79   8.16   8.47   8.84   9.14   9.35   9.67  10.20   \n",
       "1  MixedNormal0.7  32.15  34.22  36.48  40.13  42.03  44.15  49.90  56.41   \n",
       "2         Laplace   3.82   3.91   3.99   4.01   4.04   4.10   4.19   4.31   \n",
       "3         Uniform   3.85   3.90   3.97   4.00   4.00   4.05   4.14   4.35   \n",
       "\n",
       "     5.0  \n",
       "0  10.71  \n",
       "1  61.92  \n",
       "2   4.45  \n",
       "3   4.55  "
      ]
     },
     "execution_count": 11,
     "metadata": {},
     "output_type": "execute_result"
    }
   ],
   "source": [
    "df"
   ]
  },
  {
   "cell_type": "code",
   "execution_count": 12,
   "id": "e74ced02-a996-4b3c-abb5-a390fbc3e2cb",
   "metadata": {},
   "outputs": [],
   "source": [
    "df = df.melt(id_vars=\"data\",var_name=\"logARL\",value_name=\"EDD\")"
   ]
  },
  {
   "cell_type": "code",
   "execution_count": 13,
   "id": "871a9647-f6c1-494c-96ff-937ff4a89b2c",
   "metadata": {},
   "outputs": [],
   "source": [
    "df[\"algorithm\"] = \"OKCUSUM\""
   ]
  },
  {
   "cell_type": "code",
   "execution_count": 14,
   "id": "4797d7f7-e2a1-4b6d-94cd-5cd7d1e521e7",
   "metadata": {},
   "outputs": [],
   "source": [
    "df.to_csv(\"../results_rebuttal/arl-vs-edd/okcusum.csv\")"
   ]
  },
  {
   "cell_type": "code",
   "execution_count": null,
   "id": "b1401db4-c45c-4909-9837-2873edd85e4b",
   "metadata": {},
   "outputs": [],
   "source": []
  }
 ],
 "metadata": {
  "kernelspec": {
   "display_name": "Python 3 (ipykernel)",
   "language": "python",
   "name": "python3"
  },
  "language_info": {
   "codemirror_mode": {
    "name": "ipython",
    "version": 3
   },
   "file_extension": ".py",
   "mimetype": "text/x-python",
   "name": "python",
   "nbconvert_exporter": "python",
   "pygments_lexer": "ipython3",
   "version": "3.12.3"
  }
 },
 "nbformat": 4,
 "nbformat_minor": 5
}
