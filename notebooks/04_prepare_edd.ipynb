{
 "cells": [
  {
   "cell_type": "code",
   "execution_count": 1,
   "id": "b2459315-f5cb-44b2-86bb-321c426b68c5",
   "metadata": {},
   "outputs": [],
   "source": [
    "import sys"
   ]
  },
  {
   "cell_type": "code",
   "execution_count": 2,
   "id": "d62c6428-0d16-4b4a-839c-29f51a02c936",
   "metadata": {},
   "outputs": [],
   "source": [
    "import numpy as np\n",
    "import pandas as pd\n",
    "import seaborn as sns"
   ]
  },
  {
   "cell_type": "code",
   "execution_count": 3,
   "id": "ace43388-26e7-4e3c-b96f-06cfdd67d827",
   "metadata": {},
   "outputs": [],
   "source": [
    "sys.path.append(\"../src/\")"
   ]
  },
  {
   "cell_type": "code",
   "execution_count": 4,
   "id": "e2739484-60c5-43ef-8904-fdad8b66b69c",
   "metadata": {},
   "outputs": [],
   "source": [
    "from experiments.unify_results import load_data"
   ]
  },
  {
   "cell_type": "code",
   "execution_count": 5,
   "id": "a0103623-09f8-42a1-9ca3-d713d20649eb",
   "metadata": {},
   "outputs": [],
   "source": [
    "df = load_data(\"../results/edd/\")"
   ]
  },
  {
   "cell_type": "code",
   "execution_count": 6,
   "id": "babc0d07-27aa-426b-b21c-99d97ad8b575",
   "metadata": {},
   "outputs": [
    {
     "data": {
      "text/plain": [
       "(600, 8)"
      ]
     },
     "execution_count": 6,
     "metadata": {},
     "output_type": "execute_result"
    }
   ],
   "source": [
    "df.shape"
   ]
  },
  {
   "cell_type": "code",
   "execution_count": 7,
   "id": "e21a5e01-2d37-44f5-b837-d10dcf688873",
   "metadata": {},
   "outputs": [],
   "source": [
    "df[\"len\"] = df[\"detected_cps_at\"].apply(lambda z : len(z))"
   ]
  },
  {
   "cell_type": "code",
   "execution_count": 8,
   "id": "4bfe457a-6ca4-4353-a625-4dbea9747a38",
   "metadata": {},
   "outputs": [],
   "source": [
    "df = df[df[\"len\"] > 0]"
   ]
  },
  {
   "cell_type": "code",
   "execution_count": 9,
   "id": "351e4fe9-bd39-4964-8108-261b7bfdca04",
   "metadata": {},
   "outputs": [],
   "source": [
    "df[\"edd\"] = df[\"detected_cps_at\"].apply(lambda z : z[0])"
   ]
  },
  {
   "cell_type": "code",
   "execution_count": 10,
   "id": "e4034ede-3fab-4fca-9ccf-ea9587011c82",
   "metadata": {},
   "outputs": [],
   "source": [
    "df.config = df.config.str[10:-1].astype(float)"
   ]
  },
  {
   "cell_type": "code",
   "execution_count": 11,
   "id": "305757e2-a7bc-4fad-bb54-1fce2c21f1c2",
   "metadata": {},
   "outputs": [],
   "source": [
    "df = df[df[\"edd\"] > 512]"
   ]
  },
  {
   "cell_type": "code",
   "execution_count": 12,
   "id": "99120d08-42a2-4ad8-b013-390b9ea7ebc8",
   "metadata": {},
   "outputs": [],
   "source": [
    "df[\"edd\"] = df[\"edd\"] - 512"
   ]
  },
  {
   "cell_type": "code",
   "execution_count": 13,
   "id": "d98da3c5-2512-442d-9256-941b9375b0fa",
   "metadata": {},
   "outputs": [
    {
     "data": {
      "text/html": [
       "<div>\n",
       "<style scoped>\n",
       "    .dataframe tbody tr th:only-of-type {\n",
       "        vertical-align: middle;\n",
       "    }\n",
       "\n",
       "    .dataframe tbody tr th {\n",
       "        vertical-align: top;\n",
       "    }\n",
       "\n",
       "    .dataframe thead th {\n",
       "        text-align: right;\n",
       "    }\n",
       "</style>\n",
       "<table border=\"1\" class=\"dataframe\">\n",
       "  <thead>\n",
       "    <tr style=\"text-align: right;\">\n",
       "      <th></th>\n",
       "      <th>algorithm</th>\n",
       "      <th>config</th>\n",
       "      <th>dataset</th>\n",
       "      <th>actual_cps</th>\n",
       "      <th>detected_cps</th>\n",
       "      <th>detected_cps_at</th>\n",
       "      <th>runtime</th>\n",
       "      <th>percent_changes_detected</th>\n",
       "      <th>len</th>\n",
       "      <th>edd</th>\n",
       "    </tr>\n",
       "  </thead>\n",
       "  <tbody>\n",
       "    <tr>\n",
       "      <th>0</th>\n",
       "      <td>MMDEW</td>\n",
       "      <td>0.046416</td>\n",
       "      <td>NormalToMixed1536</td>\n",
       "      <td>[512]</td>\n",
       "      <td>[]</td>\n",
       "      <td>[768]</td>\n",
       "      <td>2.392493</td>\n",
       "      <td>100.0</td>\n",
       "      <td>1</td>\n",
       "      <td>256</td>\n",
       "    </tr>\n",
       "    <tr>\n",
       "      <th>1</th>\n",
       "      <td>MMDEW</td>\n",
       "      <td>0.010000</td>\n",
       "      <td>NormalToLaplace1536</td>\n",
       "      <td>[512]</td>\n",
       "      <td>[]</td>\n",
       "      <td>[576]</td>\n",
       "      <td>1.672424</td>\n",
       "      <td>100.0</td>\n",
       "      <td>1</td>\n",
       "      <td>64</td>\n",
       "    </tr>\n",
       "    <tr>\n",
       "      <th>2</th>\n",
       "      <td>MMDEW</td>\n",
       "      <td>0.464159</td>\n",
       "      <td>NormalToLaplace1536</td>\n",
       "      <td>[512]</td>\n",
       "      <td>[]</td>\n",
       "      <td>[536]</td>\n",
       "      <td>1.603697</td>\n",
       "      <td>100.0</td>\n",
       "      <td>1</td>\n",
       "      <td>24</td>\n",
       "    </tr>\n",
       "    <tr>\n",
       "      <th>3</th>\n",
       "      <td>MMDEW</td>\n",
       "      <td>0.215443</td>\n",
       "      <td>NormalToUnif1536</td>\n",
       "      <td>[512]</td>\n",
       "      <td>[]</td>\n",
       "      <td>[576]</td>\n",
       "      <td>1.805391</td>\n",
       "      <td>100.0</td>\n",
       "      <td>1</td>\n",
       "      <td>64</td>\n",
       "    </tr>\n",
       "    <tr>\n",
       "      <th>4</th>\n",
       "      <td>MMDEW</td>\n",
       "      <td>0.004642</td>\n",
       "      <td>NormalToLaplace1536</td>\n",
       "      <td>[512]</td>\n",
       "      <td>[]</td>\n",
       "      <td>[608]</td>\n",
       "      <td>2.679558</td>\n",
       "      <td>100.0</td>\n",
       "      <td>1</td>\n",
       "      <td>96</td>\n",
       "    </tr>\n",
       "    <tr>\n",
       "      <th>...</th>\n",
       "      <td>...</td>\n",
       "      <td>...</td>\n",
       "      <td>...</td>\n",
       "      <td>...</td>\n",
       "      <td>...</td>\n",
       "      <td>...</td>\n",
       "      <td>...</td>\n",
       "      <td>...</td>\n",
       "      <td>...</td>\n",
       "      <td>...</td>\n",
       "    </tr>\n",
       "    <tr>\n",
       "      <th>592</th>\n",
       "      <td>MMDEW</td>\n",
       "      <td>0.001000</td>\n",
       "      <td>NormalToLaplace1536</td>\n",
       "      <td>[512]</td>\n",
       "      <td>[]</td>\n",
       "      <td>[624]</td>\n",
       "      <td>1.887238</td>\n",
       "      <td>100.0</td>\n",
       "      <td>1</td>\n",
       "      <td>112</td>\n",
       "    </tr>\n",
       "    <tr>\n",
       "      <th>595</th>\n",
       "      <td>MMDEW</td>\n",
       "      <td>0.464159</td>\n",
       "      <td>NormalToUnif1536</td>\n",
       "      <td>[512]</td>\n",
       "      <td>[]</td>\n",
       "      <td>[536]</td>\n",
       "      <td>2.565380</td>\n",
       "      <td>100.0</td>\n",
       "      <td>1</td>\n",
       "      <td>24</td>\n",
       "    </tr>\n",
       "    <tr>\n",
       "      <th>597</th>\n",
       "      <td>MMDEW</td>\n",
       "      <td>0.100000</td>\n",
       "      <td>NormalToMixed1536</td>\n",
       "      <td>[512]</td>\n",
       "      <td>[]</td>\n",
       "      <td>[640]</td>\n",
       "      <td>1.703640</td>\n",
       "      <td>100.0</td>\n",
       "      <td>1</td>\n",
       "      <td>128</td>\n",
       "    </tr>\n",
       "    <tr>\n",
       "      <th>598</th>\n",
       "      <td>MMDEW</td>\n",
       "      <td>0.002154</td>\n",
       "      <td>NormalToLaplace1536</td>\n",
       "      <td>[512]</td>\n",
       "      <td>[]</td>\n",
       "      <td>[632]</td>\n",
       "      <td>2.545733</td>\n",
       "      <td>100.0</td>\n",
       "      <td>1</td>\n",
       "      <td>120</td>\n",
       "    </tr>\n",
       "    <tr>\n",
       "      <th>599</th>\n",
       "      <td>MMDEW</td>\n",
       "      <td>0.100000</td>\n",
       "      <td>NormalToUnif1536</td>\n",
       "      <td>[512]</td>\n",
       "      <td>[]</td>\n",
       "      <td>[576]</td>\n",
       "      <td>1.648007</td>\n",
       "      <td>100.0</td>\n",
       "      <td>1</td>\n",
       "      <td>64</td>\n",
       "    </tr>\n",
       "  </tbody>\n",
       "</table>\n",
       "<p>460 rows × 10 columns</p>\n",
       "</div>"
      ],
      "text/plain": [
       "    algorithm    config              dataset actual_cps detected_cps  \\\n",
       "0       MMDEW  0.046416    NormalToMixed1536      [512]           []   \n",
       "1       MMDEW  0.010000  NormalToLaplace1536      [512]           []   \n",
       "2       MMDEW  0.464159  NormalToLaplace1536      [512]           []   \n",
       "3       MMDEW  0.215443     NormalToUnif1536      [512]           []   \n",
       "4       MMDEW  0.004642  NormalToLaplace1536      [512]           []   \n",
       "..        ...       ...                  ...        ...          ...   \n",
       "592     MMDEW  0.001000  NormalToLaplace1536      [512]           []   \n",
       "595     MMDEW  0.464159     NormalToUnif1536      [512]           []   \n",
       "597     MMDEW  0.100000    NormalToMixed1536      [512]           []   \n",
       "598     MMDEW  0.002154  NormalToLaplace1536      [512]           []   \n",
       "599     MMDEW  0.100000     NormalToUnif1536      [512]           []   \n",
       "\n",
       "    detected_cps_at   runtime  percent_changes_detected  len  edd  \n",
       "0             [768]  2.392493                     100.0    1  256  \n",
       "1             [576]  1.672424                     100.0    1   64  \n",
       "2             [536]  1.603697                     100.0    1   24  \n",
       "3             [576]  1.805391                     100.0    1   64  \n",
       "4             [608]  2.679558                     100.0    1   96  \n",
       "..              ...       ...                       ...  ...  ...  \n",
       "592           [624]  1.887238                     100.0    1  112  \n",
       "595           [536]  2.565380                     100.0    1   24  \n",
       "597           [640]  1.703640                     100.0    1  128  \n",
       "598           [632]  2.545733                     100.0    1  120  \n",
       "599           [576]  1.648007                     100.0    1   64  \n",
       "\n",
       "[460 rows x 10 columns]"
      ]
     },
     "execution_count": 13,
     "metadata": {},
     "output_type": "execute_result"
    }
   ],
   "source": [
    "df"
   ]
  },
  {
   "cell_type": "code",
   "execution_count": 14,
   "id": "ba96c783-bcc3-4e6e-a622-2cfcd718c8e6",
   "metadata": {},
   "outputs": [
    {
     "data": {
      "text/plain": [
       "<Axes: xlabel='config', ylabel='edd'>"
      ]
     },
     "execution_count": 14,
     "metadata": {},
     "output_type": "execute_result"
    },
    {
     "data": {
      "image/png": "[encoded data removed]",
      "text/plain": [
       "<Figure size 640x480 with 1 Axes>"
      ]
     },
     "metadata": {},
     "output_type": "display_data"
    }
   ],
   "source": [
    "sns.lineplot(data=df, x=\"config\", y=\"edd\", hue=\"dataset\", estimator=\"median\")"
   ]
  },
  {
   "cell_type": "code",
   "execution_count": 15,
   "id": "091ffa8a-1ef7-4312-9f5e-2aa24f0b7533",
   "metadata": {},
   "outputs": [],
   "source": [
    "df.to_csv(\"../results/edd.csv\")"
   ]
  },
  {
   "cell_type": "code",
   "execution_count": null,
   "id": "348e81e5-4c25-4ba6-99b3-b8c86b183705",
   "metadata": {},
   "outputs": [],
   "source": []
  }
 ],
 "metadata": {
  "kernelspec": {
   "display_name": "Python 3 (ipykernel)",
   "language": "python",
   "name": "python3"
  },
  "language_info": {
   "codemirror_mode": {
    "name": "ipython",
    "version": 3
   },
   "file_extension": ".py",
   "mimetype": "text/x-python",
   "name": "python",
   "nbconvert_exporter": "python",
   "pygments_lexer": "ipython3",
   "version": "3.11.9"
  }
 },
 "nbformat": 4,
 "nbformat_minor": 5
}
