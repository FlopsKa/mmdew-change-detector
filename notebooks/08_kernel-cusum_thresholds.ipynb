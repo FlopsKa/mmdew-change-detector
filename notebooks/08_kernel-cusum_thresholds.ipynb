{
 "cells": [
  {
   "cell_type": "markdown",
   "id": "7e1bfaa9-e1db-44a0-aeb0-22111259a41e",
   "metadata": {},
   "source": [
    "Reproduces the OKCUSUM part of Figure 4."
   ]
  },
  {
   "cell_type": "code",
   "execution_count": 1,
   "id": "28957320-6da2-4e9e-9962-d0f264623905",
   "metadata": {},
   "outputs": [],
   "source": [
    "from sklearn.metrics.pairwise import rbf_kernel\n",
    "import numpy as np\n",
    "import matplotlib.pyplot as plt\n",
    "from scipy.special import comb as nchoosek\n",
    "from mmdew.fast_rbf_kernel import est_gamma\n",
    "from mmdew.detectors import FastOKCUSUM\n",
    "from tqdm import tqdm"
   ]
  },
  {
   "cell_type": "code",
   "execution_count": 2,
   "id": "c42ddd39-b9c3-4eb7-8c66-9637b3419a71",
   "metadata": {},
   "outputs": [],
   "source": [
    "rng = np.random.default_rng()"
   ]
  },
  {
   "cell_type": "code",
   "execution_count": 3,
   "id": "f2643bff-2b1a-4337-b075-39b8ade478f3",
   "metadata": {},
   "outputs": [],
   "source": [
    "d=20"
   ]
  },
  {
   "cell_type": "code",
   "execution_count": 194,
   "id": "6cd32cc5-113e-4101-a652-a7c5d1ccbef3",
   "metadata": {},
   "outputs": [],
   "source": [
    "ref_size=1000\n",
    "reps=25\n",
    "target_arl=15000"
   ]
  },
  {
   "cell_type": "code",
   "execution_count": 195,
   "id": "35de9712-e704-4e9e-8cc1-59ba3a99ab08",
   "metadata": {},
   "outputs": [
    {
     "name": "stderr",
     "output_type": "stream",
     "text": [
      "100%|██████████████████████████████████████| 25/25 [16:16:12<00:00, 2342.88s/it]\n"
     ]
    }
   ],
   "source": [
    "statistics = []\n",
    "\n",
    "for _ in tqdm(range(reps)):\n",
    "    ref = rng.normal(size=(ref_size,d))\n",
    "\n",
    "    detector = FastOKCUSUM(ref, B_max=50, N=15)\n",
    "    \n",
    "    data = rng.normal(size=(target_arl*10,d))\n",
    "    \n",
    "    for elem in data:\n",
    "        detector.add_element(elem.reshape(1,-1))\n",
    "    statistics += detector.stats"
   ]
  },
  {
   "cell_type": "code",
   "execution_count": 196,
   "id": "55136c65-b9cc-4eca-8ab0-eb24fd3fed0a",
   "metadata": {},
   "outputs": [
    {
     "data": {
      "text/plain": [
       "[<matplotlib.lines.Line2D at 0x778016adbef0>]"
      ]
     },
     "execution_count": 196,
     "metadata": {},
     "output_type": "execute_result"
    },
    {
     "data": {
      "image/png": "[encoded data removed]",
      "text/plain": [
       "<Figure size 640x480 with 1 Axes>"
      ]
     },
     "metadata": {},
     "output_type": "display_data"
    }
   ],
   "source": [
    "plt.plot(statistics)"
   ]
  },
  {
   "cell_type": "code",
   "execution_count": 197,
   "id": "4b66d407-4272-43ad-9d1d-82f4fd40157c",
   "metadata": {},
   "outputs": [],
   "source": [
    "import pickle"
   ]
  },
  {
   "cell_type": "code",
   "execution_count": 198,
   "id": "2f0b065e-6f78-4255-8d30-9d530edeb86c",
   "metadata": {},
   "outputs": [],
   "source": [
    "with open('okcusum-statistics.pickle', 'wb') as handle:\n",
    "    pickle.dump(statistics, handle, protocol=pickle.HIGHEST_PROTOCOL)"
   ]
  },
  {
   "cell_type": "code",
   "execution_count": 199,
   "id": "acd8cf9c-7361-4c18-9361-2dfd170bae54",
   "metadata": {},
   "outputs": [],
   "source": [
    "with open('okcusum-statistics.pickle', 'rb') as handle:\n",
    "    b = pickle.load(handle)"
   ]
  },
  {
   "cell_type": "code",
   "execution_count": 200,
   "id": "c372d216-e14c-48a9-a64d-273cf9ef5aea",
   "metadata": {},
   "outputs": [],
   "source": [
    "threshold = np.quantile(statistics, 1-(1/target_arl))"
   ]
  },
  {
   "cell_type": "code",
   "execution_count": 201,
   "id": "b599adc0-b961-4bc1-bd86-fe91b31d1946",
   "metadata": {},
   "outputs": [
    {
     "data": {
      "text/plain": [
       "np.float64(4.6996046959922575)"
      ]
     },
     "execution_count": 201,
     "metadata": {},
     "output_type": "execute_result"
    }
   ],
   "source": [
    "threshold"
   ]
  },
  {
   "cell_type": "code",
   "execution_count": 202,
   "id": "d0f2276a-999b-4bf4-a4ff-240a657b60ea",
   "metadata": {},
   "outputs": [
    {
     "data": {
      "text/plain": [
       "np.int64(54)"
      ]
     },
     "execution_count": 202,
     "metadata": {},
     "output_type": "execute_result"
    }
   ],
   "source": [
    "np.sum(detector.stats > threshold) # arl"
   ]
  },
  {
   "cell_type": "code",
   "execution_count": 203,
   "id": "7818e5fb-10b1-4bde-8c3e-1e0068657b39",
   "metadata": {},
   "outputs": [
    {
     "data": {
      "text/plain": [
       "np.float64(4.6996046959922575)"
      ]
     },
     "execution_count": 203,
     "metadata": {},
     "output_type": "execute_result"
    }
   ],
   "source": [
    "threshold #somewhat lower than the one given in their article's Figure 3 but we also have lower values of the test statistic for Figure 1. Might be due to a slight difference in the median heuristic."
   ]
  },
  {
   "cell_type": "code",
   "execution_count": 204,
   "id": "46c65ce3-f5d9-437e-8922-f1762920b44e",
   "metadata": {},
   "outputs": [],
   "source": [
    "target_arls_log = np.arange(3,5.1,.25)\n",
    "\n",
    "arl2thresh = { i : np.quantile(statistics, 1-(1/10**i)) for i in target_arls_log}"
   ]
  },
  {
   "cell_type": "code",
   "execution_count": null,
   "id": "595724f1-768b-456a-84b7-e9d73d2cc23a",
   "metadata": {},
   "outputs": [],
   "source": []
  }
 ],
 "metadata": {
  "kernelspec": {
   "display_name": "Python 3 (ipykernel)",
   "language": "python",
   "name": "python3"
  },
  "language_info": {
   "codemirror_mode": {
    "name": "ipython",
    "version": 3
   },
   "file_extension": ".py",
   "mimetype": "text/x-python",
   "name": "python",
   "nbconvert_exporter": "python",
   "pygments_lexer": "ipython3",
   "version": "3.12.3"
  }
 },
 "nbformat": 4,
 "nbformat_minor": 5
}
