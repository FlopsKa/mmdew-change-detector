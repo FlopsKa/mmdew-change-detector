{
 "cells": [
  {
   "cell_type": "code",
   "execution_count": 1,
   "id": "28957320-6da2-4e9e-9962-d0f264623905",
   "metadata": {},
   "outputs": [],
   "source": [
    "from sklearn.metrics.pairwise import rbf_kernel\n",
    "import numpy as np\n",
    "import matplotlib.pyplot as plt\n",
    "from mmdew.fast_rbf_kernel import est_gamma\n",
    "from mmdew.mmdew import MMDEW\n",
    "from tqdm import tqdm"
   ]
  },
  {
   "cell_type": "code",
   "execution_count": 2,
   "id": "c42ddd39-b9c3-4eb7-8c66-9637b3419a71",
   "metadata": {},
   "outputs": [],
   "source": [
    "rng = np.random.default_rng()"
   ]
  },
  {
   "cell_type": "code",
   "execution_count": 3,
   "id": "f2643bff-2b1a-4337-b075-39b8ade478f3",
   "metadata": {},
   "outputs": [],
   "source": [
    "d=20"
   ]
  },
  {
   "cell_type": "code",
   "execution_count": 59,
   "id": "6cd32cc5-113e-4101-a652-a7c5d1ccbef3",
   "metadata": {},
   "outputs": [],
   "source": [
    "ref_size=1000\n",
    "reps=25\n",
    "target_arl=25000"
   ]
  },
  {
   "cell_type": "code",
   "execution_count": 60,
   "id": "35de9712-e704-4e9e-8cc1-59ba3a99ab08",
   "metadata": {},
   "outputs": [
    {
     "name": "stderr",
     "output_type": "stream",
     "text": [
      "100%|████████████████████████████████████████| 25/25 [2:57:26<00:00, 425.84s/it]\n"
     ]
    }
   ],
   "source": [
    "statistics = []\n",
    "\n",
    "for _ in tqdm(range(reps)):\n",
    "    ref = rng.normal(size=(ref_size,d))\n",
    "    gamma = est_gamma(ref)\n",
    "    detector = MMDEW(gamma=gamma)\n",
    "    \n",
    "    data = rng.normal(size=(target_arl*10,d))\n",
    "    \n",
    "    for elem in data:\n",
    "        detector.insert(elem.reshape(1,-1))\n",
    "    statistics += detector.stats[64:] # the first few have large variance"
   ]
  },
  {
   "cell_type": "code",
   "execution_count": 61,
   "id": "55136c65-b9cc-4eca-8ab0-eb24fd3fed0a",
   "metadata": {},
   "outputs": [
    {
     "data": {
      "text/plain": [
       "[<matplotlib.lines.Line2D at 0x7cd786944ec0>]"
      ]
     },
     "execution_count": 61,
     "metadata": {},
     "output_type": "execute_result"
    },
    {
     "data": {
      "image/png": "[encoded data removed]",
      "text/plain": [
       "<Figure size 640x480 with 1 Axes>"
      ]
     },
     "metadata": {},
     "output_type": "display_data"
    }
   ],
   "source": [
    "plt.plot(statistics)"
   ]
  },
  {
   "cell_type": "code",
   "execution_count": 62,
   "id": "e36dd8c0-ab20-4fa0-a906-d8003c0e8955",
   "metadata": {},
   "outputs": [
    {
     "data": {
      "text/plain": [
       "np.float64(0.11409939373247)"
      ]
     },
     "execution_count": 62,
     "metadata": {},
     "output_type": "execute_result"
    }
   ],
   "source": [
    "np.std(statistics)"
   ]
  },
  {
   "cell_type": "code",
   "execution_count": 63,
   "id": "e800730e-934f-4632-93f1-544b198afeaa",
   "metadata": {},
   "outputs": [
    {
     "data": {
      "text/plain": [
       "np.float64(0.11409939373247)"
      ]
     },
     "execution_count": 63,
     "metadata": {},
     "output_type": "execute_result"
    }
   ],
   "source": [
    "np.std(statistics)"
   ]
  },
  {
   "cell_type": "code",
   "execution_count": 64,
   "id": "4b66d407-4272-43ad-9d1d-82f4fd40157c",
   "metadata": {},
   "outputs": [],
   "source": [
    "import pickle"
   ]
  },
  {
   "cell_type": "code",
   "execution_count": 65,
   "id": "2f0b065e-6f78-4255-8d30-9d530edeb86c",
   "metadata": {},
   "outputs": [],
   "source": [
    "with open('mmdew-statistics.pickle', 'wb') as handle:\n",
    "    pickle.dump(statistics, handle, protocol=pickle.HIGHEST_PROTOCOL)"
   ]
  },
  {
   "cell_type": "code",
   "execution_count": 66,
   "id": "acd8cf9c-7361-4c18-9361-2dfd170bae54",
   "metadata": {},
   "outputs": [],
   "source": [
    "with open('mmdew-statistics.pickle', 'rb') as handle:\n",
    "    b = pickle.load(handle)"
   ]
  },
  {
   "cell_type": "code",
   "execution_count": 67,
   "id": "c372d216-e14c-48a9-a64d-273cf9ef5aea",
   "metadata": {},
   "outputs": [],
   "source": [
    "threshold = np.quantile(statistics, 1-(1/target_arl))"
   ]
  },
  {
   "cell_type": "code",
   "execution_count": 68,
   "id": "b599adc0-b961-4bc1-bd86-fe91b31d1946",
   "metadata": {},
   "outputs": [
    {
     "data": {
      "text/plain": [
       "np.float64(1.0721815770388703)"
      ]
     },
     "execution_count": 68,
     "metadata": {},
     "output_type": "execute_result"
    }
   ],
   "source": [
    "threshold"
   ]
  },
  {
   "cell_type": "code",
   "execution_count": 69,
   "id": "d0f2276a-999b-4bf4-a4ff-240a657b60ea",
   "metadata": {},
   "outputs": [
    {
     "data": {
      "text/plain": [
       "np.int64(12)"
      ]
     },
     "execution_count": 69,
     "metadata": {},
     "output_type": "execute_result"
    }
   ],
   "source": [
    "np.sum(detector.stats > threshold) # arl"
   ]
  },
  {
   "cell_type": "code",
   "execution_count": 70,
   "id": "7818e5fb-10b1-4bde-8c3e-1e0068657b39",
   "metadata": {},
   "outputs": [
    {
     "data": {
      "text/plain": [
       "np.float64(1.0721815770388703)"
      ]
     },
     "execution_count": 70,
     "metadata": {},
     "output_type": "execute_result"
    }
   ],
   "source": [
    "threshold #somewhat lower than the one given in their article's Figure 3 but we also have lower values of the test statistic for Figure 1. Might be due to a slight difference in the median heuristic."
   ]
  },
  {
   "cell_type": "code",
   "execution_count": 71,
   "id": "46c65ce3-f5d9-437e-8922-f1762920b44e",
   "metadata": {},
   "outputs": [],
   "source": [
    "target_arls_log = np.arange(3,5.1,.25)\n",
    "\n",
    "arl2thresh = { i : np.quantile(statistics, 1-(1/10**i)) for i in target_arls_log}"
   ]
  },
  {
   "cell_type": "markdown",
   "id": "2bf683d1-f6e0-4d0e-9173-a6be40c9a320",
   "metadata": {},
   "source": [
    "# q = N(0,2^2) or N(0,1)"
   ]
  },
  {
   "cell_type": "code",
   "execution_count": 54,
   "id": "a7167fcf-ffbf-4ca2-bf64-0670f9f74eb6",
   "metadata": {},
   "outputs": [
    {
     "name": "stderr",
     "output_type": "stream",
     "text": [
      "100%|█████████████████████████████████████████| 100/100 [01:39<00:00,  1.01it/s]\n"
     ]
    }
   ],
   "source": [
    "h1_stats = []\n",
    "\n",
    "for _ in tqdm(range(100)):\n",
    "    ref = rng.normal(size=(10000,d))\n",
    "    gamma = est_gamma(ref)\n",
    "    detector = MMDEW(gamma=gamma)\n",
    "    for elem in ref[:64]:\n",
    "        detector.insert(elem.reshape(1,-1))\n",
    "\n",
    "    q = np.where((rng.uniform(size=500)>0.9).reshape(-1,1), rng.normal(scale=2,size=(500,d)), rng.normal(size=(500,d)))\n",
    "\n",
    "    for elem in q:\n",
    "        detector.insert(elem.reshape(1,-1))\n",
    "    h1_stats += [detector.stats[64:]]"
   ]
  },
  {
   "cell_type": "code",
   "execution_count": 55,
   "id": "d4ddda08-7a7c-41f2-bb56-2aac8d8b901e",
   "metadata": {},
   "outputs": [],
   "source": [
    "arl2edd = {}\n",
    "for arl, thresh in arl2thresh.items():\n",
    "    edd = [np.argmax(s>thresh) for s in h1_stats]\n",
    "    arl2edd[arl] = np.mean(edd)"
   ]
  },
  {
   "cell_type": "code",
   "execution_count": 56,
   "id": "e5e13721-9d02-4f38-8482-2766063b0847",
   "metadata": {},
   "outputs": [
    {
     "data": {
      "text/plain": [
       "{np.float64(3.0): np.float64(10.33),\n",
       " np.float64(3.25): np.float64(10.48),\n",
       " np.float64(3.5): np.float64(10.48),\n",
       " np.float64(3.75): np.float64(10.56),\n",
       " np.float64(4.0): np.float64(10.65),\n",
       " np.float64(4.25): np.float64(10.65),\n",
       " np.float64(4.5): np.float64(10.71),\n",
       " np.float64(4.75): np.float64(10.87),\n",
       " np.float64(5.0): np.float64(10.87)}"
      ]
     },
     "execution_count": 56,
     "metadata": {},
     "output_type": "execute_result"
    }
   ],
   "source": [
    "arl2edd"
   ]
  },
  {
   "cell_type": "markdown",
   "id": "edce8f2c-5f2c-4d04-9b55-244da3f9ffb1",
   "metadata": {},
   "source": [
    "# q = Laplace"
   ]
  },
  {
   "cell_type": "code",
   "execution_count": 34,
   "id": "dad282c8-1b87-4a94-a271-6d626a181e82",
   "metadata": {},
   "outputs": [
    {
     "name": "stderr",
     "output_type": "stream",
     "text": [
      "100%|█████████████████████████████████████████| 100/100 [01:05<00:00,  1.52it/s]\n"
     ]
    }
   ],
   "source": [
    "h1_stats = []\n",
    "\n",
    "for _ in tqdm(range(100)):\n",
    "    ref = rng.normal(size=(10000,d))\n",
    "    gamma = est_gamma(ref)\n",
    "    detector = MMDEW(gamma=gamma)\n",
    "    for elem in ref[:64]:\n",
    "        detector.insert(elem.reshape(1,-1))\n",
    "\n",
    "    q = rng.laplace(scale=np.sqrt(2),size=(50,d))\n",
    "\n",
    "    for elem in q:\n",
    "        detector.insert(elem.reshape(1,-1))\n",
    "    h1_stats += [detector.stats[64:]]"
   ]
  },
  {
   "cell_type": "code",
   "execution_count": 35,
   "id": "91349812-0077-42b8-8758-532ec1861154",
   "metadata": {},
   "outputs": [],
   "source": [
    "arl2edd = {}\n",
    "for arl, thresh in arl2thresh.items():\n",
    "    edd = [np.argmax(s>thresh) for s in h1_stats]\n",
    "    arl2edd[arl] = np.mean(edd)"
   ]
  },
  {
   "cell_type": "code",
   "execution_count": 36,
   "id": "570df76d-b10e-48fa-8dcb-62ace620fd9f",
   "metadata": {},
   "outputs": [
    {
     "data": {
      "text/plain": [
       "{np.float64(3.0): np.float64(0.22),\n",
       " np.float64(3.25): np.float64(0.23),\n",
       " np.float64(3.5): np.float64(0.26),\n",
       " np.float64(3.75): np.float64(0.3),\n",
       " np.float64(4.0): np.float64(0.36),\n",
       " np.float64(4.25): np.float64(0.42),\n",
       " np.float64(4.5): np.float64(0.42),\n",
       " np.float64(4.75): np.float64(0.47),\n",
       " np.float64(5.0): np.float64(0.47)}"
      ]
     },
     "execution_count": 36,
     "metadata": {},
     "output_type": "execute_result"
    }
   ],
   "source": [
    "arl2edd"
   ]
  },
  {
   "cell_type": "code",
   "execution_count": null,
   "id": "4cbbd7d0-8ff8-47cc-9108-e0a1d0bab18e",
   "metadata": {},
   "outputs": [],
   "source": []
  },
  {
   "cell_type": "markdown",
   "id": "6d5e12c6-e740-4c24-99aa-037f9123bae5",
   "metadata": {},
   "source": [
    "# q = Uniform"
   ]
  },
  {
   "cell_type": "code",
   "execution_count": 41,
   "id": "a21deb90-26c5-48b8-b9da-267322144e17",
   "metadata": {},
   "outputs": [
    {
     "name": "stderr",
     "output_type": "stream",
     "text": [
      "100%|█████████████████████████████████████████| 100/100 [01:05<00:00,  1.52it/s]\n"
     ]
    }
   ],
   "source": [
    "h1_stats = []\n",
    "\n",
    "for _ in tqdm(range(100)):\n",
    "    ref = rng.normal(size=(10000,d))\n",
    "    gamma = est_gamma(ref)\n",
    "    detector = MMDEW(gamma=gamma)\n",
    "    for elem in ref[:64]:\n",
    "        detector.insert(elem.reshape(1,-1))\n",
    "\n",
    "    q = rng.uniform(-1,1,size=(50,d))*np.sqrt(2)\n",
    "\n",
    "    for elem in q:\n",
    "        detector.insert(elem.reshape(1,-1))\n",
    "    h1_stats += [detector.stats[64:]]"
   ]
  },
  {
   "cell_type": "code",
   "execution_count": 42,
   "id": "1e5fb345-da75-45b2-aeb1-bbb5e8299f6d",
   "metadata": {},
   "outputs": [],
   "source": [
    "arl2edd = {}\n",
    "for arl, thresh in arl2thresh.items():\n",
    "    edd = [np.argmax(s>thresh) for s in h1_stats]\n",
    "    arl2edd[arl] = np.mean(edd)"
   ]
  },
  {
   "cell_type": "code",
   "execution_count": 43,
   "id": "34bc5821-f3e3-4a98-9f3f-83bdc167c495",
   "metadata": {},
   "outputs": [
    {
     "data": {
      "text/plain": [
       "{np.float64(3.0): np.float64(0.0),\n",
       " np.float64(3.25): np.float64(0.0),\n",
       " np.float64(3.5): np.float64(0.0),\n",
       " np.float64(3.75): np.float64(0.0),\n",
       " np.float64(4.0): np.float64(0.0),\n",
       " np.float64(4.25): np.float64(0.0),\n",
       " np.float64(4.5): np.float64(0.0),\n",
       " np.float64(4.75): np.float64(0.0),\n",
       " np.float64(5.0): np.float64(0.0)}"
      ]
     },
     "execution_count": 43,
     "metadata": {},
     "output_type": "execute_result"
    }
   ],
   "source": [
    "arl2edd"
   ]
  },
  {
   "cell_type": "markdown",
   "id": "f6db49f1-91ab-477e-b829-4387cc4f9eb4",
   "metadata": {},
   "source": [
    "# q = p"
   ]
  },
  {
   "cell_type": "code",
   "execution_count": 77,
   "id": "cfd3aaee-2aeb-40b2-868d-8169c1be6635",
   "metadata": {},
   "outputs": [
    {
     "name": "stderr",
     "output_type": "stream",
     "text": [
      "100%|███████████████████████████████████████| 100/100 [2:03:03<00:00, 73.83s/it]\n"
     ]
    }
   ],
   "source": [
    "h1_stats = []\n",
    "\n",
    "for _ in tqdm(range(100)):\n",
    "    ref = rng.normal(size=(10000,d))\n",
    "    gamma = est_gamma(ref)\n",
    "    detector = MMDEW(gamma=gamma)\n",
    "\n",
    "    q = rng.normal(size=(50000,d))\n",
    "\n",
    "    for elem in ref[:64]:\n",
    "        detector.insert(elem.reshape(1,-1))\n",
    "\n",
    "    for elem in q:\n",
    "        detector.insert(elem.reshape(1,-1))\n",
    "    h1_stats += [detector.stats[64:]]"
   ]
  },
  {
   "cell_type": "code",
   "execution_count": 82,
   "id": "abc79f55-50eb-43a8-bcbf-329198f934e0",
   "metadata": {},
   "outputs": [],
   "source": [
    "arl2edd = {}\n",
    "for arl, thresh in arl2thresh.items():\n",
    "    edd = [np.argmax(s + [np.inf]>thresh) for s in h1_stats]\n",
    "    arl2edd[arl] = np.mean(edd)"
   ]
  },
  {
   "cell_type": "code",
   "execution_count": 83,
   "id": "e42ae6ac-c626-4110-86f8-42d166e7e7ec",
   "metadata": {},
   "outputs": [
    {
     "data": {
      "text/plain": [
       "{np.float64(3.0): np.float64(414.03),\n",
       " np.float64(3.25): np.float64(931.76),\n",
       " np.float64(3.5): np.float64(2015.29),\n",
       " np.float64(3.75): np.float64(3830.94),\n",
       " np.float64(4.0): np.float64(7430.41),\n",
       " np.float64(4.25): np.float64(13616.92),\n",
       " np.float64(4.5): np.float64(20712.46),\n",
       " np.float64(4.75): np.float64(28514.02),\n",
       " np.float64(5.0): np.float64(36807.7)}"
      ]
     },
     "execution_count": 83,
     "metadata": {},
     "output_type": "execute_result"
    }
   ],
   "source": [
    "arl2edd"
   ]
  },
  {
   "cell_type": "code",
   "execution_count": null,
   "id": "d3cb7288-e11e-4988-b9ea-934d06434c06",
   "metadata": {},
   "outputs": [],
   "source": []
  }
 ],
 "metadata": {
  "kernelspec": {
   "display_name": "Python 3 (ipykernel)",
   "language": "python",
   "name": "python3"
  },
  "language_info": {
   "codemirror_mode": {
    "name": "ipython",
    "version": 3
   },
   "file_extension": ".py",
   "mimetype": "text/x-python",
   "name": "python",
   "nbconvert_exporter": "python",
   "pygments_lexer": "ipython3",
   "version": "3.12.3"
  }
 },
 "nbformat": 4,
 "nbformat_minor": 5
}
