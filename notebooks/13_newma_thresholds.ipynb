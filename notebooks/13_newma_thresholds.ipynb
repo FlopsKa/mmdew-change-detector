{
 "cells": [
  {
   "cell_type": "markdown",
   "id": "7e1bfaa9-e1db-44a0-aeb0-22111259a41e",
   "metadata": {},
   "source": [
    "Get thresholds for NEWMA"
   ]
  },
  {
   "cell_type": "code",
   "execution_count": 18,
   "id": "28957320-6da2-4e9e-9962-d0f264623905",
   "metadata": {},
   "outputs": [],
   "source": [
    "from sklearn.metrics.pairwise import rbf_kernel\n",
    "import numpy as np\n",
    "import matplotlib.pyplot as plt\n",
    "from scipy.special import comb as nchoosek\n",
    "from mmdew.fast_rbf_kernel import est_gamma\n",
    "from mmdew.detectors import FastOKCUSUM\n",
    "from tqdm import tqdm\n",
    "import onlinecp.algos as algos\n",
    "import onlinecp.utils.feature_functions as feat"
   ]
  },
  {
   "cell_type": "code",
   "execution_count": 2,
   "id": "14e2e30b-1d75-417d-8da1-fcf2ecede794",
   "metadata": {},
   "outputs": [],
   "source": [
    "B=50 # in line with our ScanB/OKCUSUM value"
   ]
  },
  {
   "cell_type": "code",
   "execution_count": 3,
   "id": "c42ddd39-b9c3-4eb7-8c66-9637b3419a71",
   "metadata": {},
   "outputs": [],
   "source": [
    "rng = np.random.default_rng()"
   ]
  },
  {
   "cell_type": "code",
   "execution_count": 4,
   "id": "f2643bff-2b1a-4337-b075-39b8ade478f3",
   "metadata": {},
   "outputs": [],
   "source": [
    "d=20"
   ]
  },
  {
   "cell_type": "code",
   "execution_count": 5,
   "id": "6cd32cc5-113e-4101-a652-a7c5d1ccbef3",
   "metadata": {},
   "outputs": [],
   "source": [
    "ref_size=1000\n",
    "reps=25\n",
    "target_arl=15000\n",
    "ref = rng.normal(size=(ref_size,d))"
   ]
  },
  {
   "cell_type": "code",
   "execution_count": 6,
   "id": "b82e46a9-ffc2-4b4e-9738-ae184f25be98",
   "metadata": {},
   "outputs": [],
   "source": [
    "big_Lambda, small_lambda = algos.select_optimal_parameters(B)  # forget factors chosen with heuristic in the paper\n",
    "thres_ff = small_lambda\n",
    "# number of random features is set automatically with this criterion\n",
    "m = int((1 / 4) / (small_lambda + big_Lambda) ** 2)\n",
    "def feat_func(x):\n",
    "    return feat.fourier_feat(x, W)"
   ]
  },
  {
   "cell_type": "code",
   "execution_count": 7,
   "id": "99c3f88a-e4cc-485a-ace9-abd15731bc69",
   "metadata": {},
   "outputs": [
    {
     "name": "stderr",
     "output_type": "stream",
     "text": [
      "100%|███████████████████████████████████████████| 25/25 [02:57<00:00,  7.09s/it]\n"
     ]
    }
   ],
   "source": [
    "statistics = []\n",
    "\n",
    "for _ in tqdm(range(reps)):\n",
    "    ref = rng.normal(size=(ref_size,d))\n",
    "\n",
    "    W, sigmasq = feat.generate_frequencies(m, d, data=ref[:500], choice_sigma=\"median\")\n",
    "    \n",
    "    detector = algos.NEWMA(ref[0], forget_factor=big_Lambda, forget_factor2=small_lambda, feat_func=feat_func,\n",
    "                       adapt_forget_factor=thres_ff)\n",
    "    \n",
    "    data = rng.normal(size=(target_arl*10,d))\n",
    "    \n",
    "    detector.apply_to_data(data)\n",
    "    \n",
    "    statistics += [s[0] for s in detector.stat_stored][400:] # remove noise"
   ]
  },
  {
   "cell_type": "code",
   "execution_count": null,
   "id": "2ab3953c-feb7-40c4-8b9b-ffe0377184f0",
   "metadata": {},
   "outputs": [],
   "source": []
  },
  {
   "cell_type": "code",
   "execution_count": 17,
   "id": "b1fd627f-7b9b-4c58-ad65-1ae46a1cfbec",
   "metadata": {},
   "outputs": [
    {
     "data": {
      "text/plain": [
       "[<matplotlib.lines.Line2D at 0x7d096862e840>]"
      ]
     },
     "execution_count": 17,
     "metadata": {},
     "output_type": "execute_result"
    },
    {
     "data": {
      "image/png": "[encoded data removed]",
      "text/plain": [
       "<Figure size 640x480 with 1 Axes>"
      ]
     },
     "metadata": {},
     "output_type": "display_data"
    }
   ],
   "source": [
    "plt.plot(statistics)"
   ]
  },
  {
   "cell_type": "code",
   "execution_count": 9,
   "id": "4b66d407-4272-43ad-9d1d-82f4fd40157c",
   "metadata": {},
   "outputs": [],
   "source": [
    "import pickle"
   ]
  },
  {
   "cell_type": "code",
   "execution_count": 10,
   "id": "2f0b065e-6f78-4255-8d30-9d530edeb86c",
   "metadata": {},
   "outputs": [],
   "source": [
    "with open('newma-statistics.pickle', 'wb') as handle:\n",
    "    pickle.dump(statistics, handle, protocol=pickle.HIGHEST_PROTOCOL)"
   ]
  },
  {
   "cell_type": "code",
   "execution_count": 11,
   "id": "acd8cf9c-7361-4c18-9361-2dfd170bae54",
   "metadata": {},
   "outputs": [],
   "source": [
    "with open('newma-statistics.pickle', 'rb') as handle:\n",
    "    b = pickle.load(handle)"
   ]
  },
  {
   "cell_type": "code",
   "execution_count": 12,
   "id": "c372d216-e14c-48a9-a64d-273cf9ef5aea",
   "metadata": {},
   "outputs": [],
   "source": [
    "threshold = np.quantile(statistics, 1-(1/target_arl))"
   ]
  },
  {
   "cell_type": "code",
   "execution_count": 13,
   "id": "b599adc0-b961-4bc1-bd86-fe91b31d1946",
   "metadata": {},
   "outputs": [
    {
     "data": {
      "text/plain": [
       "np.float64(0.07943296158180317)"
      ]
     },
     "execution_count": 13,
     "metadata": {},
     "output_type": "execute_result"
    }
   ],
   "source": [
    "threshold"
   ]
  },
  {
   "cell_type": "code",
   "execution_count": 14,
   "id": "7818e5fb-10b1-4bde-8c3e-1e0068657b39",
   "metadata": {},
   "outputs": [
    {
     "data": {
      "text/plain": [
       "np.float64(0.07943296158180317)"
      ]
     },
     "execution_count": 14,
     "metadata": {},
     "output_type": "execute_result"
    }
   ],
   "source": [
    "threshold #somewhat lower than the one given in their article's Figure 3 but we also have lower values of the test statistic for Figure 1. Might be due to a slight difference in the median heuristic."
   ]
  },
  {
   "cell_type": "code",
   "execution_count": 15,
   "id": "46c65ce3-f5d9-437e-8922-f1762920b44e",
   "metadata": {},
   "outputs": [],
   "source": [
    "target_arls_log = np.arange(3,5.1,.25)\n",
    "\n",
    "arl2thresh = { i : np.quantile(statistics, 1-(1/10**i)) for i in target_arls_log}"
   ]
  },
  {
   "cell_type": "code",
   "execution_count": 16,
   "id": "595724f1-768b-456a-84b7-e9d73d2cc23a",
   "metadata": {},
   "outputs": [
    {
     "data": {
      "text/plain": [
       "{np.float64(3.0): np.float64(0.07317716627632369),\n",
       " np.float64(3.25): np.float64(0.07459594113696043),\n",
       " np.float64(3.5): np.float64(0.07595820836179686),\n",
       " np.float64(3.75): np.float64(0.07741818850963111),\n",
       " np.float64(4.0): np.float64(0.07856788589699483),\n",
       " np.float64(4.25): np.float64(0.07981702196802444),\n",
       " np.float64(4.5): np.float64(0.08132243600124833),\n",
       " np.float64(4.75): np.float64(0.08254975454339335),\n",
       " np.float64(5.0): np.float64(0.08377287816773563)}"
      ]
     },
     "execution_count": 16,
     "metadata": {},
     "output_type": "execute_result"
    }
   ],
   "source": [
    "arl2thresh"
   ]
  },
  {
   "cell_type": "code",
   "execution_count": null,
   "id": "62ddf6da-9470-44a4-ab67-b06963cd25f8",
   "metadata": {},
   "outputs": [],
   "source": []
  }
 ],
 "metadata": {
  "kernelspec": {
   "display_name": "Python 3 (ipykernel)",
   "language": "python",
   "name": "python3"
  },
  "language_info": {
   "codemirror_mode": {
    "name": "ipython",
    "version": 3
   },
   "file_extension": ".py",
   "mimetype": "text/x-python",
   "name": "python",
   "nbconvert_exporter": "python",
   "pygments_lexer": "ipython3",
   "version": "3.12.3"
  }
 },
 "nbformat": 4,
 "nbformat_minor": 5
}
